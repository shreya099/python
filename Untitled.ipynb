{
 "cells": [
  {
   "cell_type": "markdown",
   "id": "8e0a8ad8",
   "metadata": {},
   "source": [
    "# print(\"hey shreya!\")\n"
   ]
  },
  {
   "cell_type": "code",
   "execution_count": 71,
   "id": "fac5c7a9",
   "metadata": {},
   "outputs": [
    {
     "name": "stdout",
     "output_type": "stream",
     "text": [
      "shreya jain\n"
     ]
    }
   ],
   "source": [
    "x=\"shreya\"\n",
    "for i in x:\n",
    "    print(i,end=\"\")\n",
    "print (\" jain\")"
   ]
  },
  {
   "cell_type": "code",
   "execution_count": 17,
   "id": "4141c4ab",
   "metadata": {},
   "outputs": [
    {
     "data": {
      "image/png": "[encoded data removed]",
      "text/plain": [
       "<Figure size 432x288 with 1 Axes>"
      ]
     },
     "metadata": {},
     "output_type": "display_data"
    }
   ],
   "source": [
    "import matplotlib.pyplot as m\n",
    "x=[9,8,1,2]\n",
    "y=[8,5,7,2]\n",
    "l=[\"parth\",\"sj\",\"mb\",\"astha\"]\n",
    "m.pie(x,shadow=True,labels=l)\n",
    "m.legend()\n",
    "m.draw()\n",
    "m.plot(x,y)\n",
    "\n",
    "\n",
    "m.draw()"
   ]
  },
  {
   "cell_type": "code",
   "execution_count": 12,
   "id": "c7d24dee",
   "metadata": {},
   "outputs": [
    {
     "name": "stdout",
     "output_type": "stream",
     "text": [
      "hello 9\n",
      "hello sj\n"
     ]
    }
   ],
   "source": [
    "def fun(x):\n",
    "    print(\"hello\" ,x)\n",
    "fun(9)\n",
    "fun(\"sj\")"
   ]
  },
  {
   "cell_type": "code",
   "execution_count": 33,
   "id": "3bb3386d",
   "metadata": {},
   "outputs": [
    {
     "name": "stdout",
     "output_type": "stream",
     "text": [
      "['shreya', 'hardik', 'rishi', 'astha', 'mb', 'parth']\n",
      "['shreya']\n",
      "['parth', 'mb']\n",
      "['mb']\n"
     ]
    }
   ],
   "source": [
    "x=[\"parth\",\"mb\",\"astha\",\"rishi\",\"hardik\",\"shreya\"]\n",
    "print(x[::-1])\n",
    "print(x[-1::])\n",
    "print(x[:2:])\n",
    "print(x[1:3:2])"
   ]
  },
  {
   "cell_type": "code",
   "execution_count": 6,
   "id": "0627f036",
   "metadata": {},
   "outputs": [
    {
     "name": "stdout",
     "output_type": "stream",
     "text": [
      "True\n",
      "['shreya', 'is', 'a', 'good', 'girl']\n",
      "hello\n",
      "   dello  \n"
     ]
    }
   ],
   "source": [
    "x=\"shreya is a good girl\"\n",
    "print(\"is\" in x)\n",
    "print(x.split(\" \"))\n",
    "x=\"   hello  \"\n",
    "print(x.strip())\n",
    "print(x.replace(\"h\",\"d\"))\n"
   ]
  },
  {
   "cell_type": "code",
   "execution_count": 11,
   "id": "0ebdf9d1",
   "metadata": {},
   "outputs": [
    {
     "name": "stdout",
     "output_type": "stream",
     "text": [
      "hello shreya, 99\n",
      "shreya // you are //my \"tgsj\" .\n"
     ]
    }
   ],
   "source": [
    "x=\"hello shreya, {}\".format(99)\n",
    "print(x)\n",
    "x=\"shreya // you are //my \\\"tgsj\\\" .\"\n",
    "print(x)"
   ]
  },
  {
   "cell_type": "code",
   "execution_count": 26,
   "id": "8ab4e914",
   "metadata": {},
   "outputs": [
    {
     "name": "stdout",
     "output_type": "stream",
     "text": [
      "hello\n"
     ]
    }
   ],
   "source": [
    "x=lambda :print(\"hello\")\n",
    "x()"
   ]
  },
  {
   "cell_type": "code",
   "execution_count": 53,
   "id": "eb65253b",
   "metadata": {},
   "outputs": [
    {
     "name": "stdout",
     "output_type": "stream",
     "text": [
      "hello\n"
     ]
    }
   ],
   "source": [
    "class x:\n",
    "    def __init__():\n",
    "        print(\"hello\")\n",
    "    def __str__(self):\n",
    "        return  self \n",
    "y=x\n",
    "y.__init__()"
   ]
  },
  {
   "cell_type": "code",
   "execution_count": 69,
   "id": "a558698d",
   "metadata": {},
   "outputs": [
    {
     "name": "stdout",
     "output_type": "stream",
     "text": [
      "{1: 'parth', 2: 'shreya'}\n",
      "parth\n",
      "True\n",
      "dict_values(['parth', 'shreya'])\n"
     ]
    }
   ],
   "source": [
    "d={1:\"parth\",2:\"shreya\"}\n",
    "print(d)\n",
    "print(d[1])\n",
    "print(1 in d)\n",
    "print(d.values())"
   ]
  },
  {
   "cell_type": "code",
   "execution_count": 13,
   "id": "27440c05",
   "metadata": {},
   "outputs": [
    {
     "name": "stdout",
     "output_type": "stream",
     "text": [
      "3\n",
      "SHREYA\n",
      "ok\n",
      "{1: 1, 2: 4, 3: 9, 4: 16, 5: 25, 6: 36, 7: 49, 8: 64, 9: 81}\n"
     ]
    }
   ],
   "source": [
    "# shreyaaaa \n",
    "x=\"shreya\"\n",
    "print(x.index(\"e\"))\n",
    "print(x.upper())\n",
    "if(x.islower()):\n",
    "    print(\"ok\")\n",
    "y={}\n",
    "for x in range(1,10):\n",
    "    y[x]=x*x\n",
    "print(y)\n"
   ]
  },
  {
   "cell_type": "code",
   "execution_count": 12,
   "id": "3f3a3ac6",
   "metadata": {},
   "outputs": [
    {
     "name": "stdout",
     "output_type": "stream",
     "text": [
      "heuuo\n",
      "True\n",
      "['he', '', 'o']\n"
     ]
    }
   ],
   "source": [
    "x=\"hello\"\n",
    "x=x.replace(\"l\",\"u\")\n",
    "print(x)\n",
    "print(\"u\" in x)\n",
    "x=x.split(\"u\")\n",
    "print(x)\n"
   ]
  },
  {
   "cell_type": "code",
   "execution_count": 15,
   "id": "723f829b",
   "metadata": {},
   "outputs": [
    {
     "name": "stdout",
     "output_type": "stream",
     "text": [
      "hello 9\n"
     ]
    }
   ],
   "source": [
    "x=\"hello {}\".format(9)\n",
    "print(x)\n",
    "\n"
   ]
  },
  {
   "cell_type": "code",
   "execution_count": 20,
   "id": "0c7c2c2e",
   "metadata": {},
   "outputs": [
    {
     "name": "stdout",
     "output_type": "stream",
     "text": [
      "tgsj\n"
     ]
    }
   ],
   "source": [
    "class x():\n",
    "    def __init__(self,n):\n",
    "        self.n=n\n",
    "    def fun(self):\n",
    "        print(self.n)\n",
    "n=\"tgsj\"\n",
    "y=x(n)\n",
    "y.fun()\n"
   ]
  },
  {
   "cell_type": "code",
   "execution_count": 34,
   "id": "be25bd09",
   "metadata": {},
   "outputs": [
    {
     "name": "stdout",
     "output_type": "stream",
     "text": [
      "Obtained Marks: 88\n"
     ]
    }
   ],
   "source": [
    "class Student:\n",
    "  marks = 0\n",
    "\n",
    "  def compute_marks(self, obtained_marks):\n",
    "    marks = obtained_marks\n",
    "    print('Obtained Marks:', marks)\n",
    "\n",
    "# convert compute_marks() to class method\n",
    "Student.print_marks = classmethod(Student.compute_marks)\n",
    "Student.print_marks(88)\n",
    "\n",
    "# Output: Obtained Marks: 88"
   ]
  },
  {
   "cell_type": "code",
   "execution_count": 38,
   "id": "d777da83",
   "metadata": {},
   "outputs": [
    {
     "name": "stdout",
     "output_type": "stream",
     "text": [
      "[9 8 7 6]\n",
      "9\n",
      "1.21.5\n",
      "[9 8 7 6]\n",
      "9\n",
      "7.5\n"
     ]
    }
   ],
   "source": [
    "import numpy as np\n",
    "x=np.array([9,8,7,6])\n",
    "print(x)\n",
    "print(x.max())\n",
    "print(np.__version__)\n",
    "\n",
    "\n",
    "x=np.array([9,8,7,6])\n",
    "print(x)\n",
    "print(x.max())\n",
    "print(x.mean())\n"
   ]
  },
  {
   "cell_type": "code",
   "execution_count": 40,
   "id": "3fb57069",
   "metadata": {},
   "outputs": [
    {
     "name": "stdout",
     "output_type": "stream",
     "text": [
      "[[ 1  2  3]\n",
      " [ 4  5  6]\n",
      " [ 7  8  9]\n",
      " [10 11 12]]\n"
     ]
    }
   ],
   "source": [
    "import numpy as np\n",
    "\n",
    "arr = np.array([1, 2, 3, 4, 5, 6, 7, 8, 9, 10, 11, 12])\n",
    "\n",
    "newarr = arr.reshape(4, 3)\n",
    "\n",
    "print(newarr)\n"
   ]
  },
  {
   "cell_type": "code",
   "execution_count": 19,
   "id": "9d5fe607",
   "metadata": {},
   "outputs": [
    {
     "name": "stdout",
     "output_type": "stream",
     "text": [
      "2\n",
      "[2 4 6 8]\n",
      "1\n",
      "[[0. 0. 0. 0.]\n",
      " [0. 0. 0. 0.]\n",
      " [0. 0. 0. 0.]\n",
      " [0. 0. 0. 0.]]\n"
     ]
    }
   ],
   "source": [
    "import numpy as np\n",
    "x=np.array([[9,6,5,3],[5,0,1,2]])\n",
    "print(x[1, 3])\n",
    "x=np.arange(2,10,2)\n",
    "print(x)\n",
    "print(x.ndim)\n",
    "x = np.zeros([4,4])\n",
    "print (x)"
   ]
  },
  {
   "cell_type": "code",
   "execution_count": 42,
   "id": "2aa4e8be",
   "metadata": {},
   "outputs": [
    {
     "data": {
      "text/html": [
       "<div>\n",
       "<style scoped>\n",
       "    .dataframe tbody tr th:only-of-type {\n",
       "        vertical-align: middle;\n",
       "    }\n",
       "\n",
       "    .dataframe tbody tr th {\n",
       "        vertical-align: top;\n",
       "    }\n",
       "\n",
       "    .dataframe thead th {\n",
       "        text-align: right;\n",
       "    }\n",
       "</style>\n",
       "<table border=\"1\" class=\"dataframe\">\n",
       "  <thead>\n",
       "    <tr style=\"text-align: right;\">\n",
       "      <th></th>\n",
       "      <th>1</th>\n",
       "    </tr>\n",
       "    <tr>\n",
       "      <th>a</th>\n",
       "      <th></th>\n",
       "    </tr>\n",
       "  </thead>\n",
       "  <tbody>\n",
       "    <tr>\n",
       "      <th>b</th>\n",
       "      <td>2</td>\n",
       "    </tr>\n",
       "    <tr>\n",
       "      <th>c</th>\n",
       "      <td>3</td>\n",
       "    </tr>\n",
       "    <tr>\n",
       "      <th>d</th>\n",
       "      <td>4</td>\n",
       "    </tr>\n",
       "    <tr>\n",
       "      <th>e</th>\n",
       "      <td>5</td>\n",
       "    </tr>\n",
       "    <tr>\n",
       "      <th>f</th>\n",
       "      <td>6</td>\n",
       "    </tr>\n",
       "  </tbody>\n",
       "</table>\n",
       "</div>"
      ],
      "text/plain": [
       "   1\n",
       "a   \n",
       "b  2\n",
       "c  3\n",
       "d  4\n",
       "e  5\n",
       "f  6"
      ]
     },
     "execution_count": 42,
     "metadata": {},
     "output_type": "execute_result"
    }
   ],
   "source": [
    "import pandas as pd\n",
    "pd.read_csv(\"C:\\\\Users\\\\JainShre\\\\Documents\\\\file.csv\",index_col=[0],nrows=5)"
   ]
  },
  {
   "cell_type": "code",
   "execution_count": 20,
   "id": "f65a95a3",
   "metadata": {},
   "outputs": [
    {
     "name": "stdout",
     "output_type": "stream",
     "text": [
      "   0\n",
      "a  9\n",
      "b  8\n",
      "c  7\n",
      "d  6\n"
     ]
    }
   ],
   "source": [
    "import pandas as pd\n",
    "x=[9,8,7,6]\n",
    "df=pd.DataFrame(x,index=['a','b','c','d'])\n",
    "print(df)"
   ]
  },
  {
   "cell_type": "code",
   "execution_count": 6,
   "id": "f0f4fdd3",
   "metadata": {},
   "outputs": [
    {
     "name": "stdout",
     "output_type": "stream",
     "text": [
      "     Name  Age\n",
      "a  shreya   10\n",
      "b   parth   12\n",
      "c      mb   13\n"
     ]
    }
   ],
   "source": [
    "import pandas as pd\n",
    "data = [['shreya',10],['parth',12],['mb',13]]\n",
    "df = pd.DataFrame(data,columns=['Name','Age'],index=['a','b','c'])\n",
    "print (df)"
   ]
  },
  {
   "cell_type": "code",
   "execution_count": 13,
   "id": "a6a832fd",
   "metadata": {},
   "outputs": [
    {
     "name": "stdout",
     "output_type": "stream",
     "text": [
      "     Name      Characterstics\n",
      "a  shreya                rare\n",
      "b   parth              caring\n",
      "c      mb            sensible\n",
      "d   astha              mature\n",
      "e   rishi           dangerous\n",
      "f  hardik  ccooddderrrrrrhhhh\n"
     ]
    }
   ],
   "source": [
    "import pandas as pd\n",
    "data = [['shreya','rare'],['parth','caring'],['mb','sensible'],['astha','mature'],['rishi','dangerous'],['hardik','ccooddderrrrrrhhhh']]\n",
    "df = pd.DataFrame(data,columns=['Name','Characterstics'],index=['a','b','c','d','e','f'])\n",
    "print (df)"
   ]
  },
  {
   "cell_type": "code",
   "execution_count": 15,
   "id": "c1f6a280",
   "metadata": {},
   "outputs": [
    {
     "name": "stdout",
     "output_type": "stream",
     "text": [
      "   a   b     c\n",
      "0  1   2   NaN\n",
      "1  5  10  20.0\n"
     ]
    }
   ],
   "source": [
    "import pandas as pd\n",
    "data = [{'a': 1, 'b': 2},{'a': 5, 'b': 10, 'c': 20}]\n",
    "df = pd.DataFrame(data)\n",
    "print( df)"
   ]
  },
  {
   "cell_type": "code",
   "execution_count": 33,
   "id": "74a2ed2a",
   "metadata": {},
   "outputs": [
    {
     "name": "stdout",
     "output_type": "stream",
     "text": [
      "   one  two\n",
      "a  1.0  1.0\n",
      "b  2.0  2.0\n",
      "c  3.0  3.0\n",
      "d  NaN  4.0\n"
     ]
    }
   ],
   "source": [
    "import pandas as pd\n",
    "\n",
    "d = {'one' : pd.Series([1, 2, 3], index=['a', 'b', 'c']),\n",
    "   'two' : pd.Series([1, 2, 3, 4], index=['a', 'b', 'c', 'd'])}\n",
    "\n",
    "df = pd.DataFrame(d,dtype=float)\n",
    "print (df)"
   ]
  },
  {
   "cell_type": "code",
   "execution_count": 23,
   "id": "ed162dfd",
   "metadata": {},
   "outputs": [
    {
     "name": "stdout",
     "output_type": "stream",
     "text": [
      "l    9\n",
      "m    8\n",
      "n    7\n",
      "o    6\n",
      "dtype: int64\n"
     ]
    }
   ],
   "source": [
    "x=[9,8,7,6]\n",
    "df1=pd.Series(x,index=['l','m','n','o'])\n",
    "print(df1)"
   ]
  },
  {
   "cell_type": "code",
   "execution_count": 25,
   "id": "d849d738",
   "metadata": {},
   "outputs": [
    {
     "name": "stdout",
     "output_type": "stream",
     "text": [
      "Adding a new column by passing as Series:\n",
      "   one  two  three\n",
      "a  1.0    1   10.0\n",
      "b  2.0    2   20.0\n",
      "c  3.0    3   30.0\n",
      "d  NaN    4    NaN\n",
      "Adding a new column using the existing columns in DataFrame:\n",
      "   one  two  three  four\n",
      "a  1.0    1   10.0  11.0\n",
      "b  2.0    2   20.0  22.0\n",
      "c  3.0    3   30.0  33.0\n",
      "d  NaN    4    NaN   NaN\n"
     ]
    }
   ],
   "source": [
    "import pandas as pd\n",
    "\n",
    "d = {'one' : pd.Series([1, 2, 3], index=['a', 'b', 'c']),\n",
    "   'two' : pd.Series([1, 2, 3, 4], index=['a', 'b', 'c', 'd'])}\n",
    "\n",
    "df = pd.DataFrame(d)\n",
    "\n",
    "\n",
    "print (\"Adding a new column by passing as Series:\")\n",
    "df['three']=pd.Series([10,20,30],index=['a','b','c'])\n",
    "print (df)\n",
    "\n",
    "print (\"Adding a new column using the existing columns in DataFrame:\")\n",
    "df['four']=df['one']+df['three']\n",
    "\n",
    "print (df)"
   ]
  },
  {
   "cell_type": "code",
   "execution_count": 32,
   "id": "2bae4ba0",
   "metadata": {},
   "outputs": [
    {
     "name": "stdout",
     "output_type": "stream",
     "text": [
      "[{'x': [9, 8, 7], 'z': [9]}, {'y': [1, 2, 3]}]\n",
      "           x    z          y\n",
      "a  [9, 8, 7]  [9]        NaN\n",
      "b        NaN  NaN  [1, 2, 3]\n"
     ]
    }
   ],
   "source": [
    "x=[{'x':[9,8,7],'z':[9]},{'y':[1,2,3]}]\n",
    "print(x)\n",
    "df=pd.DataFrame(x,index=[\"a\",\"b\"])\n",
    "print(df)"
   ]
  },
  {
   "cell_type": "code",
   "execution_count": 35,
   "id": "88c2903f",
   "metadata": {},
   "outputs": [
    {
     "name": "stdout",
     "output_type": "stream",
     "text": [
      "     0    1    2    3\n",
      "m  1.0  2.0  3.0  NaN\n",
      "n  6.0  7.0  9.0  8.0\n"
     ]
    }
   ],
   "source": [
    "lst = [[1,2,3],[6,7,9,8]]\n",
    "df = pd.DataFrame(lst,index = ['m','n'],dtype=float)\n",
    "print (df)"
   ]
  },
  {
   "cell_type": "code",
   "execution_count": 46,
   "id": "d988831c",
   "metadata": {},
   "outputs": [
    {
     "data": {
      "text/html": [
       "<div>\n",
       "<style scoped>\n",
       "    .dataframe tbody tr th:only-of-type {\n",
       "        vertical-align: middle;\n",
       "    }\n",
       "\n",
       "    .dataframe tbody tr th {\n",
       "        vertical-align: top;\n",
       "    }\n",
       "\n",
       "    .dataframe thead th {\n",
       "        text-align: right;\n",
       "    }\n",
       "</style>\n",
       "<table border=\"1\" class=\"dataframe\">\n",
       "  <thead>\n",
       "    <tr style=\"text-align: right;\">\n",
       "      <th></th>\n",
       "      <th>pclass</th>\n",
       "      <th>survived</th>\n",
       "      <th>name</th>\n",
       "      <th>sex</th>\n",
       "      <th>age</th>\n",
       "      <th>sibsp</th>\n",
       "      <th>parch</th>\n",
       "      <th>ticket</th>\n",
       "      <th>fare</th>\n",
       "      <th>cabin</th>\n",
       "      <th>embarked</th>\n",
       "      <th>boat</th>\n",
       "      <th>body</th>\n",
       "      <th>home.dest</th>\n",
       "    </tr>\n",
       "  </thead>\n",
       "  <tbody>\n",
       "    <tr>\n",
       "      <th>0</th>\n",
       "      <td>1.0</td>\n",
       "      <td>1.0</td>\n",
       "      <td>Allen, Miss. Elisabeth Walton</td>\n",
       "      <td>female</td>\n",
       "      <td>29.0000</td>\n",
       "      <td>0.0</td>\n",
       "      <td>0.0</td>\n",
       "      <td>24160</td>\n",
       "      <td>211.3375</td>\n",
       "      <td>B5</td>\n",
       "      <td>S</td>\n",
       "      <td>2</td>\n",
       "      <td>NaN</td>\n",
       "      <td>St Louis, MO</td>\n",
       "    </tr>\n",
       "    <tr>\n",
       "      <th>1</th>\n",
       "      <td>1.0</td>\n",
       "      <td>1.0</td>\n",
       "      <td>Allison, Master. Hudson Trevor</td>\n",
       "      <td>male</td>\n",
       "      <td>0.9167</td>\n",
       "      <td>1.0</td>\n",
       "      <td>2.0</td>\n",
       "      <td>113781</td>\n",
       "      <td>151.5500</td>\n",
       "      <td>C22 C26</td>\n",
       "      <td>S</td>\n",
       "      <td>11</td>\n",
       "      <td>NaN</td>\n",
       "      <td>Montreal, PQ / Chesterville, ON</td>\n",
       "    </tr>\n",
       "    <tr>\n",
       "      <th>2</th>\n",
       "      <td>1.0</td>\n",
       "      <td>0.0</td>\n",
       "      <td>Allison, Miss. Helen Loraine</td>\n",
       "      <td>female</td>\n",
       "      <td>2.0000</td>\n",
       "      <td>1.0</td>\n",
       "      <td>2.0</td>\n",
       "      <td>113781</td>\n",
       "      <td>151.5500</td>\n",
       "      <td>C22 C26</td>\n",
       "      <td>S</td>\n",
       "      <td>NaN</td>\n",
       "      <td>NaN</td>\n",
       "      <td>Montreal, PQ / Chesterville, ON</td>\n",
       "    </tr>\n",
       "    <tr>\n",
       "      <th>3</th>\n",
       "      <td>1.0</td>\n",
       "      <td>0.0</td>\n",
       "      <td>Allison, Mr. Hudson Joshua Creighton</td>\n",
       "      <td>male</td>\n",
       "      <td>30.0000</td>\n",
       "      <td>1.0</td>\n",
       "      <td>2.0</td>\n",
       "      <td>113781</td>\n",
       "      <td>151.5500</td>\n",
       "      <td>C22 C26</td>\n",
       "      <td>S</td>\n",
       "      <td>NaN</td>\n",
       "      <td>135.0</td>\n",
       "      <td>Montreal, PQ / Chesterville, ON</td>\n",
       "    </tr>\n",
       "    <tr>\n",
       "      <th>4</th>\n",
       "      <td>1.0</td>\n",
       "      <td>0.0</td>\n",
       "      <td>Allison, Mrs. Hudson J C (Bessie Waldo Daniels)</td>\n",
       "      <td>female</td>\n",
       "      <td>25.0000</td>\n",
       "      <td>1.0</td>\n",
       "      <td>2.0</td>\n",
       "      <td>113781</td>\n",
       "      <td>151.5500</td>\n",
       "      <td>C22 C26</td>\n",
       "      <td>S</td>\n",
       "      <td>NaN</td>\n",
       "      <td>NaN</td>\n",
       "      <td>Montreal, PQ / Chesterville, ON</td>\n",
       "    </tr>\n",
       "    <tr>\n",
       "      <th>...</th>\n",
       "      <td>...</td>\n",
       "      <td>...</td>\n",
       "      <td>...</td>\n",
       "      <td>...</td>\n",
       "      <td>...</td>\n",
       "      <td>...</td>\n",
       "      <td>...</td>\n",
       "      <td>...</td>\n",
       "      <td>...</td>\n",
       "      <td>...</td>\n",
       "      <td>...</td>\n",
       "      <td>...</td>\n",
       "      <td>...</td>\n",
       "      <td>...</td>\n",
       "    </tr>\n",
       "    <tr>\n",
       "      <th>1305</th>\n",
       "      <td>3.0</td>\n",
       "      <td>0.0</td>\n",
       "      <td>Zabour, Miss. Thamine</td>\n",
       "      <td>female</td>\n",
       "      <td>NaN</td>\n",
       "      <td>1.0</td>\n",
       "      <td>0.0</td>\n",
       "      <td>2665</td>\n",
       "      <td>14.4542</td>\n",
       "      <td>NaN</td>\n",
       "      <td>C</td>\n",
       "      <td>NaN</td>\n",
       "      <td>NaN</td>\n",
       "      <td>NaN</td>\n",
       "    </tr>\n",
       "    <tr>\n",
       "      <th>1306</th>\n",
       "      <td>3.0</td>\n",
       "      <td>0.0</td>\n",
       "      <td>Zakarian, Mr. Mapriededer</td>\n",
       "      <td>male</td>\n",
       "      <td>26.5000</td>\n",
       "      <td>0.0</td>\n",
       "      <td>0.0</td>\n",
       "      <td>2656</td>\n",
       "      <td>7.2250</td>\n",
       "      <td>NaN</td>\n",
       "      <td>C</td>\n",
       "      <td>NaN</td>\n",
       "      <td>304.0</td>\n",
       "      <td>NaN</td>\n",
       "    </tr>\n",
       "    <tr>\n",
       "      <th>1307</th>\n",
       "      <td>3.0</td>\n",
       "      <td>0.0</td>\n",
       "      <td>Zakarian, Mr. Ortin</td>\n",
       "      <td>male</td>\n",
       "      <td>27.0000</td>\n",
       "      <td>0.0</td>\n",
       "      <td>0.0</td>\n",
       "      <td>2670</td>\n",
       "      <td>7.2250</td>\n",
       "      <td>NaN</td>\n",
       "      <td>C</td>\n",
       "      <td>NaN</td>\n",
       "      <td>NaN</td>\n",
       "      <td>NaN</td>\n",
       "    </tr>\n",
       "    <tr>\n",
       "      <th>1308</th>\n",
       "      <td>3.0</td>\n",
       "      <td>0.0</td>\n",
       "      <td>Zimmerman, Mr. Leo</td>\n",
       "      <td>male</td>\n",
       "      <td>29.0000</td>\n",
       "      <td>0.0</td>\n",
       "      <td>0.0</td>\n",
       "      <td>315082</td>\n",
       "      <td>7.8750</td>\n",
       "      <td>NaN</td>\n",
       "      <td>S</td>\n",
       "      <td>NaN</td>\n",
       "      <td>NaN</td>\n",
       "      <td>NaN</td>\n",
       "    </tr>\n",
       "    <tr>\n",
       "      <th>1309</th>\n",
       "      <td>NaN</td>\n",
       "      <td>NaN</td>\n",
       "      <td>NaN</td>\n",
       "      <td>NaN</td>\n",
       "      <td>NaN</td>\n",
       "      <td>NaN</td>\n",
       "      <td>NaN</td>\n",
       "      <td>NaN</td>\n",
       "      <td>NaN</td>\n",
       "      <td>NaN</td>\n",
       "      <td>NaN</td>\n",
       "      <td>NaN</td>\n",
       "      <td>NaN</td>\n",
       "      <td>NaN</td>\n",
       "    </tr>\n",
       "  </tbody>\n",
       "</table>\n",
       "<p>1310 rows × 14 columns</p>\n",
       "</div>"
      ],
      "text/plain": [
       "      pclass  survived                                             name  \\\n",
       "0        1.0       1.0                    Allen, Miss. Elisabeth Walton   \n",
       "1        1.0       1.0                   Allison, Master. Hudson Trevor   \n",
       "2        1.0       0.0                     Allison, Miss. Helen Loraine   \n",
       "3        1.0       0.0             Allison, Mr. Hudson Joshua Creighton   \n",
       "4        1.0       0.0  Allison, Mrs. Hudson J C (Bessie Waldo Daniels)   \n",
       "...      ...       ...                                              ...   \n",
       "1305     3.0       0.0                            Zabour, Miss. Thamine   \n",
       "1306     3.0       0.0                        Zakarian, Mr. Mapriededer   \n",
       "1307     3.0       0.0                              Zakarian, Mr. Ortin   \n",
       "1308     3.0       0.0                               Zimmerman, Mr. Leo   \n",
       "1309     NaN       NaN                                              NaN   \n",
       "\n",
       "         sex      age  sibsp  parch  ticket      fare    cabin embarked boat  \\\n",
       "0     female  29.0000    0.0    0.0   24160  211.3375       B5        S    2   \n",
       "1       male   0.9167    1.0    2.0  113781  151.5500  C22 C26        S   11   \n",
       "2     female   2.0000    1.0    2.0  113781  151.5500  C22 C26        S  NaN   \n",
       "3       male  30.0000    1.0    2.0  113781  151.5500  C22 C26        S  NaN   \n",
       "4     female  25.0000    1.0    2.0  113781  151.5500  C22 C26        S  NaN   \n",
       "...      ...      ...    ...    ...     ...       ...      ...      ...  ...   \n",
       "1305  female      NaN    1.0    0.0    2665   14.4542      NaN        C  NaN   \n",
       "1306    male  26.5000    0.0    0.0    2656    7.2250      NaN        C  NaN   \n",
       "1307    male  27.0000    0.0    0.0    2670    7.2250      NaN        C  NaN   \n",
       "1308    male  29.0000    0.0    0.0  315082    7.8750      NaN        S  NaN   \n",
       "1309     NaN      NaN    NaN    NaN     NaN       NaN      NaN      NaN  NaN   \n",
       "\n",
       "       body                        home.dest  \n",
       "0       NaN                     St Louis, MO  \n",
       "1       NaN  Montreal, PQ / Chesterville, ON  \n",
       "2       NaN  Montreal, PQ / Chesterville, ON  \n",
       "3     135.0  Montreal, PQ / Chesterville, ON  \n",
       "4       NaN  Montreal, PQ / Chesterville, ON  \n",
       "...     ...                              ...  \n",
       "1305    NaN                              NaN  \n",
       "1306  304.0                              NaN  \n",
       "1307    NaN                              NaN  \n",
       "1308    NaN                              NaN  \n",
       "1309    NaN                              NaN  \n",
       "\n",
       "[1310 rows x 14 columns]"
      ]
     },
     "execution_count": 46,
     "metadata": {},
     "output_type": "execute_result"
    }
   ],
   "source": [
    "pd.read_csv(\"C:\\\\Users\\\\JainShre\\\\Downloads\\\\titanic.csv\")"
   ]
  },
  {
   "cell_type": "code",
   "execution_count": 40,
   "id": "246e86e9",
   "metadata": {},
   "outputs": [
    {
     "name": "stdout",
     "output_type": "stream",
     "text": [
      "       0   1     2      3    4\n",
      "0  hello  hy  ky h  jkkkk  NaN\n",
      "1      9  99     7      6  6.0\n"
     ]
    }
   ],
   "source": [
    "x=((\"hello\",\"hy\",\"ky h\",\"jkkkk\"),(9,99,7,6,6))\n",
    "df=pd.DataFrame(x)\n",
    "print(df)"
   ]
  },
  {
   "cell_type": "code",
   "execution_count": 41,
   "id": "79fc004a",
   "metadata": {},
   "outputs": [
    {
     "name": "stdout",
     "output_type": "stream",
     "text": [
      "      0\n",
      "0   oii\n",
      "1  jjjj\n"
     ]
    }
   ],
   "source": [
    "y=((\"oii\",\"jjjj\"))\n",
    "df1=pd.DataFrame(y)\n",
    "print(df1)"
   ]
  },
  {
   "cell_type": "code",
   "execution_count": 45,
   "id": "9d3dc9fa",
   "metadata": {},
   "outputs": [
    {
     "name": "stdout",
     "output_type": "stream",
     "text": [
      "       0    1     2      3    4\n",
      "0    oii  NaN   NaN    NaN  NaN\n",
      "1   jjjj  NaN   NaN    NaN  NaN\n",
      "0    oii  NaN   NaN    NaN  NaN\n",
      "1   jjjj  NaN   NaN    NaN  NaN\n",
      "0    oii  NaN   NaN    NaN  NaN\n",
      "1   jjjj  NaN   NaN    NaN  NaN\n",
      "0  hello   hy  ky h  jkkkk  NaN\n",
      "1      9   99     7      6  6.0\n"
     ]
    },
    {
     "name": "stderr",
     "output_type": "stream",
     "text": [
      "C:\\Users\\JainShre\\AppData\\Local\\Temp\\ipykernel_20536\\2254055675.py:1: FutureWarning: The frame.append method is deprecated and will be removed from pandas in a future version. Use pandas.concat instead.\n",
      "  df=df1.append(df)\n"
     ]
    }
   ],
   "source": [
    "df=df1.append(df)\n",
    "print(df)"
   ]
  },
  {
   "cell_type": "code",
   "execution_count": 59,
   "id": "b29cb384",
   "metadata": {},
   "outputs": [
    {
     "name": "stdout",
     "output_type": "stream",
     "text": [
      "       Name      HEX               RGB\n",
      "0     White  #FFFFFF  rgb(100,100,100)\n",
      "1    Silver  #C0C0C0     rgb(75,75,75)\n",
      "2      Gray  #808080     rgb(50,50,50)\n",
      "3     Black  #000000        rgb(0,0,0)\n",
      "4       Red  #FF0000      rgb(100,0,0)\n",
      "5    Maroon  #800000       rgb(50,0,0)\n",
      "6    Yellow  #FFFF00    rgb(100,100,0)\n",
      "7     Olive  #808000      rgb(50,50,0)\n",
      "8      Lime  #00FF00      rgb(0,100,0)\n",
      "9     Green  #008000       rgb(0,50,0)\n",
      "10     Aqua  #00FFFF    rgb(0,100,100)\n",
      "11     Teal  #008080      rgb(0,50,50)\n",
      "12     Blue  #0000FF      rgb(0,0,100)\n",
      "13     Navy  #000080       rgb(0,0,50)\n",
      "14  Fuchsia  #FF00FF    rgb(100,0,100)\n",
      "15   Purple  #800080      rgb(50,0,50)\n",
      "         HEX               RGB\n",
      "0    #000000        rgb(0,0,0)\n",
      "1    #000033       rgb(0,0,51)\n",
      "2    #000066      rgb(0,0,102)\n",
      "3    #000099      rgb(0,0,153)\n",
      "4    #0000CC      rgb(0,0,204)\n",
      "..       ...               ...\n",
      "211  #FFFF33   rgb(255,255,51)\n",
      "212  #FFFF66  rgb(255,255,102)\n",
      "213  #FFFF99  rgb(255,255,153)\n",
      "214  #FFFFCC  rgb(255,255,204)\n",
      "215  #FFFFFF  rgb(255,255,255)\n",
      "\n",
      "[216 rows x 2 columns]\n",
      "       Name      HEX               RGB\n",
      "0     White  #FFFFFF  rgb(100,100,100)\n",
      "1    Silver  #C0C0C0     rgb(75,75,75)\n",
      "2      Gray  #808080     rgb(50,50,50)\n",
      "3     Black  #000000        rgb(0,0,0)\n",
      "4       Red  #FF0000      rgb(100,0,0)\n",
      "..      ...      ...               ...\n",
      "211     NaN  #FFFF33   rgb(255,255,51)\n",
      "212     NaN  #FFFF66  rgb(255,255,102)\n",
      "213     NaN  #FFFF99  rgb(255,255,153)\n",
      "214     NaN  #FFFFCC  rgb(255,255,204)\n",
      "215     NaN  #FFFFFF  rgb(255,255,255)\n",
      "\n",
      "[232 rows x 3 columns]\n",
      "       Name      HEX               RGB\n",
      "0     White  #FFFFFF  rgb(100,100,100)\n",
      "1    Silver  #C0C0C0     rgb(75,75,75)\n",
      "2      Gray  #808080     rgb(50,50,50)\n",
      "3     Black  #000000        rgb(0,0,0)\n",
      "4       Red  #FF0000      rgb(100,0,0)\n",
      "5    Maroon  #800000       rgb(50,0,0)\n",
      "6    Yellow  #FFFF00    rgb(100,100,0)\n",
      "7     Olive  #808000      rgb(50,50,0)\n",
      "8      Lime  #00FF00      rgb(0,100,0)\n",
      "9     Green  #008000       rgb(0,50,0)\n",
      "10     Aqua  #00FFFF    rgb(0,100,100)\n",
      "11     Teal  #008080      rgb(0,50,50)\n",
      "12     Blue  #0000FF      rgb(0,0,100)\n",
      "13     Navy  #000080       rgb(0,0,50)\n",
      "14  Fuchsia  #FF00FF    rgb(100,0,100)\n",
      "15   Purple  #800080      rgb(50,0,50)\n"
     ]
    }
   ],
   "source": [
    "df=pd.read_csv(\"C:\\\\Users\\\\JainShre\\\\Downloads\\\\color_srgb.csv\")\n",
    "print(df)\n",
    "df1=pd.read_csv(\"C:\\\\Users\\\\JainShre\\\\Downloads\\\\color_web_safe.csv\")\n",
    "print(df1)\n",
    "df2=pd.concat([df,df1],axis=0,join='outer')\n",
    "print(df2)\n",
    "print(pd.DataFrame(df))"
   ]
  },
  {
   "cell_type": "code",
   "execution_count": 61,
   "id": "b8d09a16",
   "metadata": {},
   "outputs": [
    {
     "name": "stdout",
     "output_type": "stream",
     "text": [
      "     Name_x      HEX             RGB_x   Name_y             RGB_y\n",
      "0     White  #FFFFFF  rgb(100,100,100)    White  rgb(100,100,100)\n",
      "1     White  #FFFFFF  rgb(100,100,100)      NaN  rgb(255,255,255)\n",
      "2    Silver  #C0C0C0     rgb(75,75,75)   Silver     rgb(75,75,75)\n",
      "3      Gray  #808080     rgb(50,50,50)     Gray     rgb(50,50,50)\n",
      "4     Black  #000000        rgb(0,0,0)    Black        rgb(0,0,0)\n",
      "5     Black  #000000        rgb(0,0,0)      NaN        rgb(0,0,0)\n",
      "6       Red  #FF0000      rgb(100,0,0)      Red      rgb(100,0,0)\n",
      "7       Red  #FF0000      rgb(100,0,0)      NaN      rgb(255,0,0)\n",
      "8    Maroon  #800000       rgb(50,0,0)   Maroon       rgb(50,0,0)\n",
      "9    Yellow  #FFFF00    rgb(100,100,0)   Yellow    rgb(100,100,0)\n",
      "10   Yellow  #FFFF00    rgb(100,100,0)      NaN    rgb(255,255,0)\n",
      "11    Olive  #808000      rgb(50,50,0)    Olive      rgb(50,50,0)\n",
      "12     Lime  #00FF00      rgb(0,100,0)     Lime      rgb(0,100,0)\n",
      "13     Lime  #00FF00      rgb(0,100,0)      NaN      rgb(0,255,0)\n",
      "14    Green  #008000       rgb(0,50,0)    Green       rgb(0,50,0)\n",
      "15     Aqua  #00FFFF    rgb(0,100,100)     Aqua    rgb(0,100,100)\n",
      "16     Aqua  #00FFFF    rgb(0,100,100)      NaN    rgb(0,255,255)\n",
      "17     Teal  #008080      rgb(0,50,50)     Teal      rgb(0,50,50)\n",
      "18     Blue  #0000FF      rgb(0,0,100)     Blue      rgb(0,0,100)\n",
      "19     Blue  #0000FF      rgb(0,0,100)      NaN      rgb(0,0,255)\n",
      "20     Navy  #000080       rgb(0,0,50)     Navy       rgb(0,0,50)\n",
      "21  Fuchsia  #FF00FF    rgb(100,0,100)  Fuchsia    rgb(100,0,100)\n",
      "22  Fuchsia  #FF00FF    rgb(100,0,100)      NaN    rgb(255,0,255)\n",
      "23   Purple  #800080      rgb(50,0,50)   Purple      rgb(50,0,50)\n"
     ]
    }
   ],
   "source": [
    "df3=df.merge(df2,on='HEX')\n",
    "print(df3)"
   ]
  },
  {
   "cell_type": "code",
   "execution_count": 65,
   "id": "c7d6d5eb",
   "metadata": {},
   "outputs": [
    {
     "name": "stdout",
     "output_type": "stream",
     "text": [
      "Name_x             Gray\n",
      "HEX             #808080\n",
      "RGB_x     rgb(50,50,50)\n",
      "Name_y             Gray\n",
      "RGB_y     rgb(50,50,50)\n",
      "Name: 3, dtype: object\n"
     ]
    }
   ],
   "source": [
    "print(df3.iloc[3])\n"
   ]
  },
  {
   "cell_type": "code",
   "execution_count": 66,
   "id": "3243aa4f",
   "metadata": {},
   "outputs": [
    {
     "name": "stdout",
     "output_type": "stream",
     "text": [
      "   Name_x      HEX             RGB_x  Name_y             RGB_y\n",
      "0   White  #FFFFFF  rgb(100,100,100)   White  rgb(100,100,100)\n",
      "1   White  #FFFFFF  rgb(100,100,100)     NaN  rgb(255,255,255)\n",
      "2  Silver  #C0C0C0     rgb(75,75,75)  Silver     rgb(75,75,75)\n",
      "3    Gray  #808080     rgb(50,50,50)    Gray     rgb(50,50,50)\n",
      "4   Black  #000000        rgb(0,0,0)   Black        rgb(0,0,0)\n"
     ]
    }
   ],
   "source": [
    "print(df3.head())"
   ]
  },
  {
   "cell_type": "code",
   "execution_count": 67,
   "id": "451df196",
   "metadata": {},
   "outputs": [
    {
     "name": "stdout",
     "output_type": "stream",
     "text": [
      "       Name_x      HEX             RGB_x Name_y       RGB_y\n",
      "count      24       24                24     16          24\n",
      "unique     16       16                16     16          23\n",
      "top     White  #FFFFFF  rgb(100,100,100)  White  rgb(0,0,0)\n",
      "freq        2        2                 2      1           2\n"
     ]
    }
   ],
   "source": [
    "print(df3.describe())"
   ]
  },
  {
   "cell_type": "code",
   "execution_count": 70,
   "id": "b7a004a9",
   "metadata": {},
   "outputs": [
    {
     "name": "stdout",
     "output_type": "stream",
     "text": [
      "0     #FFFFFF\n",
      "1     #FFFFFF\n",
      "2     #C0C0C0\n",
      "3     #808080\n",
      "4     #000000\n",
      "5     #000000\n",
      "6     #FF0000\n",
      "7     #FF0000\n",
      "8     #800000\n",
      "9     #FFFF00\n",
      "10    #FFFF00\n",
      "11    #808000\n",
      "12    #00FF00\n",
      "13    #00FF00\n",
      "14    #008000\n",
      "15    #00FFFF\n",
      "16    #00FFFF\n",
      "17    #008080\n",
      "18    #0000FF\n",
      "19    #0000FF\n",
      "20    #000080\n",
      "21    #FF00FF\n",
      "22    #FF00FF\n",
      "23    #800080\n",
      "Name: HEX, dtype: object\n"
     ]
    }
   ],
   "source": [
    "print(df3[\"HEX\"])"
   ]
  },
  {
   "cell_type": "code",
   "execution_count": 13,
   "id": "3920d81e",
   "metadata": {},
   "outputs": [
    {
     "data": {
      "image/png": "[encoded data removed]",
      "text/plain": [
       "<Figure size 432x288 with 1 Axes>"
      ]
     },
     "metadata": {
      "needs_background": "light"
     },
     "output_type": "display_data"
    }
   ],
   "source": [
    "import matplotlib.pyplot as m\n",
    "m.plot([8,7,3,2],marker='o')\n",
    "m.grid(True)\n",
    "m.xlabel(\"x\")\n",
    "m.ylabel(\"y\")\n",
    "m.title(\"shreyaaaaaaa...\")\n",
    "m.show()"
   ]
  },
  {
   "cell_type": "code",
   "execution_count": 16,
   "id": "426bde5f",
   "metadata": {},
   "outputs": [
    {
     "data": {
      "image/png": "[encoded data removed]",
      "text/plain": [
       "<Figure size 432x288 with 1 Axes>"
      ]
     },
     "metadata": {},
     "output_type": "display_data"
    }
   ],
   "source": [
    "m.pie([9,8,7,6],labels=[\"ok\",\"i\",\"jjj\",\"ioo\"],explode=[0.2,0,0,0])\n",
    "m.show()"
   ]
  },
  {
   "cell_type": "code",
   "execution_count": 23,
   "id": "076b65d3",
   "metadata": {},
   "outputs": [
    {
     "data": {
      "image/png": "[encoded data removed]",
      "text/plain": [
       "<Figure size 432x288 with 1 Axes>"
      ]
     },
     "metadata": {
      "needs_background": "light"
     },
     "output_type": "display_data"
    }
   ],
   "source": [
    "m.plot([8,7],[5,2],marker='*')\n",
    "m.grid(color='green',linestyle='--')\n",
    "m.show()"
   ]
  },
  {
   "cell_type": "code",
   "execution_count": 25,
   "id": "8899ef3a",
   "metadata": {},
   "outputs": [
    {
     "data": {
      "image/png": "[encoded data removed]",
      "text/plain": [
       "<Figure size 432x288 with 1 Axes>"
      ]
     },
     "metadata": {
      "needs_background": "light"
     },
     "output_type": "display_data"
    }
   ],
   "source": [
    "m.scatter([8,7,9,6,3],[5,2,1,4,9],marker='*')\n",
    "m.show()"
   ]
  },
  {
   "cell_type": "code",
   "execution_count": 31,
   "id": "0a258df5",
   "metadata": {},
   "outputs": [
    {
     "data": {
      "image/png": "[encoded data removed]",
      "text/plain": [
       "<Figure size 432x288 with 1 Axes>"
      ]
     },
     "metadata": {
      "needs_background": "light"
     },
     "output_type": "display_data"
    }
   ],
   "source": [
    "m.bar([9,0,7,5],[8,7,5,3],color=\"yellow\",width=0.8)\n",
    "m.show()"
   ]
  },
  {
   "cell_type": "code",
   "execution_count": 37,
   "id": "cea6d24d",
   "metadata": {},
   "outputs": [
    {
     "data": {
      "image/png": "[encoded data removed]",
      "text/plain": [
       "<Figure size 432x288 with 1 Axes>"
      ]
     },
     "metadata": {
      "needs_background": "light"
     },
     "output_type": "display_data"
    }
   ],
   "source": [
    "import numpy as np\n",
    "x=np.random.normal(170,10,250)\n",
    "m.hist(x)\n",
    "m.show()"
   ]
  },
  {
   "cell_type": "code",
   "execution_count": null,
   "id": "6aef5ebd",
   "metadata": {},
   "outputs": [],
   "source": []
  }
 ],
 "metadata": {
  "kernelspec": {
   "display_name": "Python 3 (ipykernel)",
   "language": "python",
   "name": "python3"
  },
  "language_info": {
   "codemirror_mode": {
    "name": "ipython",
    "version": 3
   },
   "file_extension": ".py",
   "mimetype": "text/x-python",
   "name": "python",
   "nbconvert_exporter": "python",
   "pygments_lexer": "ipython3",
   "version": "3.9.12"
  },
  "vscode": {
   "interpreter": {
    "hash": "f08e40dd35bb62e3b13da510f916e67f8741c20f9d9e8524cf88e096f585d9dc"
   }
  }
 },
 "nbformat": 4,
 "nbformat_minor": 5
}
